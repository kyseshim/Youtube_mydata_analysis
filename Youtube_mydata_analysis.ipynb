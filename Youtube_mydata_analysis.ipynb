{
 "cells": [
  {
   "cell_type": "code",
   "execution_count": 33,
   "id": "d84ad874",
   "metadata": {
    "ExecuteTime": {
     "end_time": "2022-08-20T20:41:58.983532Z",
     "start_time": "2022-08-20T20:41:58.975533Z"
    }
   },
   "outputs": [],
   "source": [
    "#!pip install --upgrade google-api-python-client\n",
    "#!pip install oauth2client\n",
    "\n",
    "from googleapiclient.discovery import build\n",
    "from googleapiclient.errors import HttpError\n",
    "from oauth2client.tools import argparser\n",
    "import apikey"
   ]
  },
  {
   "cell_type": "code",
   "execution_count": 34,
   "id": "6d5d0641",
   "metadata": {
    "ExecuteTime": {
     "end_time": "2022-08-20T20:42:00.841603Z",
     "start_time": "2022-08-20T20:42:00.831907Z"
    }
   },
   "outputs": [],
   "source": [
    "dev_key = apikey.api_key\n",
    "api_service_name = \"youtube\"\n",
    "api_ver = \"v3\""
   ]
  },
  {
   "cell_type": "code",
   "execution_count": 35,
   "id": "76040435",
   "metadata": {
    "ExecuteTime": {
     "end_time": "2022-08-20T20:42:02.581175Z",
     "start_time": "2022-08-20T20:42:02.569123Z"
    }
   },
   "outputs": [],
   "source": [
    "youtube = build(api_service_name, api_ver, developerKey = dev_key)"
   ]
  },
  {
   "cell_type": "code",
   "execution_count": 36,
   "id": "64adc4c6",
   "metadata": {
    "ExecuteTime": {
     "end_time": "2022-08-20T20:42:04.220364Z",
     "start_time": "2022-08-20T20:42:03.652021Z"
    }
   },
   "outputs": [],
   "source": [
    "search_response = youtube.search().list(\n",
    "    q = \"공부하는섭이\",\n",
    "    order = \"relevance\",\n",
    "    part = \"snippet\",\n",
    "    maxResults = 50\n",
    "    ).execute()"
   ]
  },
  {
   "cell_type": "code",
   "execution_count": 37,
   "id": "55668aa9",
   "metadata": {
    "ExecuteTime": {
     "end_time": "2022-08-20T20:42:05.009737Z",
     "start_time": "2022-08-20T20:42:04.991719Z"
    }
   },
   "outputs": [],
   "source": [
    "channel_id = search_response['items'][0]['id']['channelId']"
   ]
  },
  {
   "cell_type": "code",
   "execution_count": 38,
   "id": "ed58ce14",
   "metadata": {
    "ExecuteTime": {
     "end_time": "2022-08-20T20:42:07.103785Z",
     "start_time": "2022-08-20T20:42:06.247360Z"
    }
   },
   "outputs": [],
   "source": [
    "playlists = youtube.playlists().list(\n",
    "    channelId = channel_id,\n",
    "    part = \"snippet\",\n",
    "    maxResults = 20\n",
    "    ).execute()"
   ]
  },
  {
   "cell_type": "code",
   "execution_count": 39,
   "id": "38a64c6f",
   "metadata": {
    "ExecuteTime": {
     "end_time": "2022-08-20T20:42:08.989933Z",
     "start_time": "2022-08-20T20:42:08.966994Z"
    }
   },
   "outputs": [
    {
     "data": {
      "text/html": [
       "<div>\n",
       "<style scoped>\n",
       "    .dataframe tbody tr th:only-of-type {\n",
       "        vertical-align: middle;\n",
       "    }\n",
       "\n",
       "    .dataframe tbody tr th {\n",
       "        vertical-align: top;\n",
       "    }\n",
       "\n",
       "    .dataframe thead th {\n",
       "        text-align: right;\n",
       "    }\n",
       "</style>\n",
       "<table border=\"1\" class=\"dataframe\">\n",
       "  <thead>\n",
       "    <tr style=\"text-align: right;\">\n",
       "      <th></th>\n",
       "      <th>PlayLists</th>\n",
       "      <th>Titles</th>\n",
       "    </tr>\n",
       "  </thead>\n",
       "  <tbody>\n",
       "    <tr>\n",
       "      <th>0</th>\n",
       "      <td>PLfkfgvn_kFAU6nfQ-zL_JV8D_SWeHVuRV</td>\n",
       "      <td>Shorts</td>\n",
       "    </tr>\n",
       "    <tr>\n",
       "      <th>1</th>\n",
       "      <td>PLfkfgvn_kFAX8jvsuRcoFp6CFPAUehok8</td>\n",
       "      <td>일상 Vlog</td>\n",
       "    </tr>\n",
       "    <tr>\n",
       "      <th>2</th>\n",
       "      <td>PLfkfgvn_kFAV4YksRjqGU_H9dWmMRylSG</td>\n",
       "      <td>Q&amp;A / 정보 제공</td>\n",
       "    </tr>\n",
       "  </tbody>\n",
       "</table>\n",
       "</div>"
      ],
      "text/plain": [
       "                            PlayLists       Titles\n",
       "0  PLfkfgvn_kFAU6nfQ-zL_JV8D_SWeHVuRV       Shorts\n",
       "1  PLfkfgvn_kFAX8jvsuRcoFp6CFPAUehok8      일상 Vlog\n",
       "2  PLfkfgvn_kFAV4YksRjqGU_H9dWmMRylSG  Q&A / 정보 제공"
      ]
     },
     "execution_count": 39,
     "metadata": {},
     "output_type": "execute_result"
    }
   ],
   "source": [
    "import pandas as pd\n",
    "\n",
    "ids=[]\n",
    "titles=[]\n",
    "for i in playlists['items']:\n",
    "    ids.append(i['id'])\n",
    "    titles.append(i['snippet']['title'])\n",
    "    \n",
    "df=pd.DataFrame([ids,titles]).T\n",
    "df.columns=['PlayLists','Titles']\n",
    "\n",
    "df.head(5)"
   ]
  }
 ],
 "metadata": {
  "kernelspec": {
   "display_name": "Python 3",
   "language": "python",
   "name": "python3"
  },
  "language_info": {
   "codemirror_mode": {
    "name": "ipython",
    "version": 3
   },
   "file_extension": ".py",
   "mimetype": "text/x-python",
   "name": "python",
   "nbconvert_exporter": "python",
   "pygments_lexer": "ipython3",
   "version": "3.8.8"
  },
  "varInspector": {
   "cols": {
    "lenName": 16,
    "lenType": 16,
    "lenVar": 40
   },
   "kernels_config": {
    "python": {
     "delete_cmd_postfix": "",
     "delete_cmd_prefix": "del ",
     "library": "var_list.py",
     "varRefreshCmd": "print(var_dic_list())"
    },
    "r": {
     "delete_cmd_postfix": ") ",
     "delete_cmd_prefix": "rm(",
     "library": "var_list.r",
     "varRefreshCmd": "cat(var_dic_list()) "
    }
   },
   "types_to_exclude": [
    "module",
    "function",
    "builtin_function_or_method",
    "instance",
    "_Feature"
   ],
   "window_display": false
  }
 },
 "nbformat": 4,
 "nbformat_minor": 5
}
